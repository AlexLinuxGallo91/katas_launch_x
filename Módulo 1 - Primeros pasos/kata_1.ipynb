{
 "cells": [
  {
   "cell_type": "markdown",
   "metadata": {},
   "source": [
    "# Fecha en nave\n",
    "Mostrando fecha desde la consola de la nave"
   ]
  },
  {
   "cell_type": "code",
   "execution_count": 20,
   "metadata": {},
   "outputs": [
    {
     "name": "stdout",
     "output_type": "stream",
     "text": [
      "Capitan Alexis, la fecha actual es: 2022-02-22 02:27:19.136955\n"
     ]
    }
   ],
   "source": [
    "from datetime import datetime\n",
    "\n",
    "fecha = datetime.now()\n",
    "print('Capitan Alexis, la fecha actual es: {}'.format(fecha))\n"
   ]
  },
  {
   "cell_type": "markdown",
   "metadata": {},
   "source": [
    "# Convertidor de Parsec a años Luz"
   ]
  },
  {
   "cell_type": "code",
   "execution_count": 21,
   "metadata": {},
   "outputs": [
    {
     "name": "stdout",
     "output_type": "stream",
     "text": [
      "el total de anios luz en 12 parsecs es de: 39.13872\n"
     ]
    }
   ],
   "source": [
    "parsec_en_anios_luz = 3.26156\n",
    "numero_de_parsecs = 12\n",
    "anios_luz = 0\n",
    "\n",
    "anios_luz = parsec_en_anios_luz * numero_de_parsecs\n",
    "\n",
    "print('el total de anios luz en {} parsecs es de: {}'.format(numero_de_parsecs, anios_luz))"
   ]
  }
 ],
 "metadata": {
  "interpreter": {
   "hash": "5a982917d8b7b1d6f48fd3aec0efb44101b286294bc6b25acdb2f17a8d554412"
  },
  "kernelspec": {
   "display_name": "Python 3.10.0 64-bit",
   "language": "python",
   "name": "python3"
  },
  "language_info": {
   "codemirror_mode": {
    "name": "ipython",
    "version": 3
   },
   "file_extension": ".py",
   "mimetype": "text/x-python",
   "name": "python",
   "nbconvert_exporter": "python",
   "pygments_lexer": "ipython3",
   "version": "3.10.0"
  },
  "orig_nbformat": 4
 },
 "nbformat": 4,
 "nbformat_minor": 2
}
