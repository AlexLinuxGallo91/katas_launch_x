{
 "cells": [
  {
   "cell_type": "markdown",
   "metadata": {},
   "source": [
    "# resumen luna"
   ]
  },
  {
   "cell_type": "code",
   "execution_count": 19,
   "metadata": {},
   "outputs": [
    {
     "name": "stdout",
     "output_type": "stream",
     "text": [
      " \n",
      "On average, the Moon moves 4celsiusm away from the Earth every year\n"
     ]
    }
   ],
   "source": [
    "text = \"\"\"Interesting facts about the Moon. The Moon is Earth's only satellite. There are several interesting facts about the Moon and how it affects life here on Earth. \n",
    "On average, the Moon moves 4cm away from the Earth every year. This yearly drift is not significant enough to cause immediate effects on Earth. The highest daylight\"\"\"\n",
    "\n",
    "palabras_importantes = ['average', 'temperature', 'distance']\n",
    "\n",
    "lineas = text.split('.')\n",
    "\n",
    "for linea in lineas:\n",
    "    for palabra in palabras_importantes:\n",
    "        if palabra in linea:\n",
    "            print(linea.replace('c', 'celsius'))"
   ]
  },
  {
   "cell_type": "markdown",
   "metadata": {},
   "source": [
    "# Gravedad en planetas"
   ]
  },
  {
   "cell_type": "code",
   "execution_count": 20,
   "metadata": {},
   "outputs": [
    {
     "name": "stdout",
     "output_type": "stream",
     "text": [
      "\n",
      "Gravity Facts about Tierra\n",
      "-------------------------------------------------------------------------------\n",
      "Planet Name: Urano\n",
      "Gravity on Tierra: 1.6199999999999999 m/s2\n",
      "\n"
     ]
    }
   ],
   "source": [
    "texto = \"\"\"\n",
    "Gravity Facts about {}\n",
    "-------------------------------------------------------------------------------\n",
    "Planet Name: {}\n",
    "Gravity on {}: {} m/s2\n",
    "\"\"\"\n",
    "\n",
    "nombre = 'Tierra'\n",
    "planeta = 'Urano'\n",
    "gravedad = 0.00162\n",
    "\n",
    "print(texto.format(nombre, planeta, nombre, (gravedad*1000)))"
   ]
  }
 ],
 "metadata": {
  "interpreter": {
   "hash": "5a982917d8b7b1d6f48fd3aec0efb44101b286294bc6b25acdb2f17a8d554412"
  },
  "kernelspec": {
   "display_name": "Python 3.10.0 64-bit",
   "language": "python",
   "name": "python3"
  },
  "language_info": {
   "codemirror_mode": {
    "name": "ipython",
    "version": 3
   },
   "file_extension": ".py",
   "mimetype": "text/x-python",
   "name": "python",
   "nbconvert_exporter": "python",
   "pygments_lexer": "ipython3",
   "version": "3.10.0"
  },
  "orig_nbformat": 4
 },
 "nbformat": 4,
 "nbformat_minor": 2
}
