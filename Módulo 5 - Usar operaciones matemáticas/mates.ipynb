{
 "cells": [
  {
   "cell_type": "markdown",
   "metadata": {},
   "source": [
    "# Ejercicio 1"
   ]
  },
  {
   "cell_type": "code",
   "execution_count": 2,
   "metadata": {},
   "outputs": [
    {
     "name": "stdout",
     "output_type": "stream",
     "text": [
      "distancia en km: 333311110\n",
      "distancia en millas: 206986199.31\n"
     ]
    }
   ],
   "source": [
    "primer_planeta = 12123234\n",
    "segundo_planeta = 345434344\n",
    "\n",
    "distancia = segundo_planeta - primer_planeta\n",
    "distancia_en_millas = distancia * 0.621\n",
    "\n",
    "print('distancia en km: {}'.format(distancia))\n",
    "print('distancia en millas: {}'.format(distancia_en_millas))\n"
   ]
  },
  {
   "cell_type": "markdown",
   "metadata": {},
   "source": [
    "# Ejercicio 2"
   ]
  },
  {
   "cell_type": "code",
   "execution_count": 3,
   "metadata": {},
   "outputs": [
    {
     "name": "stdout",
     "output_type": "stream",
     "text": [
      "distancia absoluta: 753404.031\n"
     ]
    }
   ],
   "source": [
    "planeta_1 = input('Introduzca la distancia del sol y el primer planeta en KM')\n",
    "planeta_2 = input('Introduzca la distancia desde el sol y el segundo planeta en KM')\n",
    "\n",
    "planeta_1 = int(planeta_1)\n",
    "planeta_2 = int(planeta_2)\n",
    "\n",
    "distancia_en_km = planeta_2 - planeta_1\n",
    "distancia_en_millas = distancia_en_km * 0.621\n",
    "print('distancia absoluta: {}'.format(abs(distancia_en_millas)))"
   ]
  }
 ],
 "metadata": {
  "interpreter": {
   "hash": "5a982917d8b7b1d6f48fd3aec0efb44101b286294bc6b25acdb2f17a8d554412"
  },
  "kernelspec": {
   "display_name": "Python 3.10.0 64-bit",
   "language": "python",
   "name": "python3"
  },
  "language_info": {
   "codemirror_mode": {
    "name": "ipython",
    "version": 3
   },
   "file_extension": ".py",
   "mimetype": "text/x-python",
   "name": "python",
   "nbconvert_exporter": "python",
   "pygments_lexer": "ipython3",
   "version": "3.10.0"
  },
  "orig_nbformat": 4
 },
 "nbformat": 4,
 "nbformat_minor": 2
}
