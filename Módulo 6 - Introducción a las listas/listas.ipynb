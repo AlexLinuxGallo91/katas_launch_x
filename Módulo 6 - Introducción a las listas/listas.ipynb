{
 "cells": [
  {
   "cell_type": "markdown",
   "metadata": {},
   "source": [
    "# Ejercicio 1"
   ]
  },
  {
   "cell_type": "code",
   "execution_count": 2,
   "metadata": {},
   "outputs": [
    {
     "name": "stdout",
     "output_type": "stream",
     "text": [
      "el total de planetas son: 8\n",
      "Pluton es el ultimo planeta y una de las sailor moon\n"
     ]
    }
   ],
   "source": [
    "planetas = ['Mercury', 'Venus', 'Earth', 'Mars', 'Jupiter', 'Saturn', 'Uranus', 'Neptune']\n",
    "print('el total de planetas son: {}'.format(len(planetas)))\n",
    "\n",
    "planetas.append('Pluton')\n",
    "print('{} es el ultimo planeta y una de las sailor moon'.format(planetas[-1]))\n"
   ]
  },
  {
   "cell_type": "markdown",
   "metadata": {},
   "source": [
    "# Ejercicio 2"
   ]
  },
  {
   "cell_type": "code",
   "execution_count": 3,
   "metadata": {},
   "outputs": [
    {
     "name": "stdout",
     "output_type": "stream",
     "text": [
      "planetas cercanos:\n",
      "['Mercury', 'Venus', 'Earth', 'Mars']\n",
      "planetas lejanos:\n",
      "['Saturn', 'Neptune']\n"
     ]
    }
   ],
   "source": [
    "planetas = ['Mercury', 'Venus', 'Earth', 'Mars', 'Jupiter', 'Saturn', 'Neptune']\n",
    "planeta_ingresado = input('Ingresa un planeta')\n",
    "\n",
    "indice_planeta = planetas.index(planeta_ingresado)\n",
    "\n",
    "print('planetas cercanos:')\n",
    "print(planetas[0:indice_planeta])\n",
    "\n",
    "print('planetas lejanos:')\n",
    "print(planetas[indice_planeta + 1:])"
   ]
  }
 ],
 "metadata": {
  "interpreter": {
   "hash": "5a982917d8b7b1d6f48fd3aec0efb44101b286294bc6b25acdb2f17a8d554412"
  },
  "kernelspec": {
   "display_name": "Python 3.10.0 64-bit",
   "language": "python",
   "name": "python3"
  },
  "language_info": {
   "codemirror_mode": {
    "name": "ipython",
    "version": 3
   },
   "file_extension": ".py",
   "mimetype": "text/x-python",
   "name": "python",
   "nbconvert_exporter": "python",
   "pygments_lexer": "ipython3",
   "version": "3.10.0"
  },
  "orig_nbformat": 4
 },
 "nbformat": 4,
 "nbformat_minor": 2
}
