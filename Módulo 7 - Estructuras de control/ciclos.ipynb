{
 "cells": [
  {
   "cell_type": "markdown",
   "metadata": {},
   "source": [
    "# Ejercicio 1 y 2"
   ]
  },
  {
   "cell_type": "code",
   "execution_count": 5,
   "metadata": {},
   "outputs": [
    {
     "name": "stdout",
     "output_type": "stream",
     "text": [
      "planetas que ingresaste:\n",
      "sapbe\n"
     ]
    }
   ],
   "source": [
    "planeta = ''\n",
    "lista_planetas = []\n",
    "\n",
    "while planeta != 'done':\n",
    "    planeta = input('Ingresa un planeta:')\n",
    "\n",
    "    if planeta != 'done':\n",
    "        lista_planetas.append(planeta)\n",
    "\n",
    "print('planetas que ingresaste:')\n",
    "\n",
    "for planeta in lista_planetas:\n",
    "    print(planeta)\n",
    "\n"
   ]
  }
 ],
 "metadata": {
  "interpreter": {
   "hash": "5a982917d8b7b1d6f48fd3aec0efb44101b286294bc6b25acdb2f17a8d554412"
  },
  "kernelspec": {
   "display_name": "Python 3.10.0 64-bit",
   "language": "python",
   "name": "python3"
  },
  "language_info": {
   "codemirror_mode": {
    "name": "ipython",
    "version": 3
   },
   "file_extension": ".py",
   "mimetype": "text/x-python",
   "name": "python",
   "nbconvert_exporter": "python",
   "pygments_lexer": "ipython3",
   "version": "3.10.0"
  },
  "orig_nbformat": 4
 },
 "nbformat": 4,
 "nbformat_minor": 2
}
