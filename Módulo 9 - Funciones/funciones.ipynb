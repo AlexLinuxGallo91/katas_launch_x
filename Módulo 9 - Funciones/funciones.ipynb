{
 "cells": [
  {
   "cell_type": "markdown",
   "metadata": {},
   "source": [
    "# Ejercicio 1"
   ]
  },
  {
   "cell_type": "code",
   "execution_count": 27,
   "metadata": {},
   "outputs": [
    {
     "name": "stdout",
     "output_type": "stream",
     "text": [
      "\n",
      "    Promedio total: 134.33333333333334\n",
      "    Tanque principal: 20\n",
      "    Tanque externo: 340\n",
      "    Tanque hidrogeno: 43\n",
      "    \n"
     ]
    }
   ],
   "source": [
    "def promedio(lista_valores):\n",
    "    total = 0\n",
    "    for valor in lista_valores:\n",
    "        total = total + valor\n",
    "    return total/len(lista_valores)\n",
    "\n",
    "def generar_reporte(tanque_principal, tanque_externo, tanque_hidrogeno):\n",
    "    total_promedio = promedio([tanque_principal,tanque_externo,tanque_hidrogeno])\n",
    "    texto = \"\"\"\n",
    "    Promedio total: {}\n",
    "    Tanque principal: {}\n",
    "    Tanque externo: {}\n",
    "    Tanque hidrogeno: {}\n",
    "    \"\"\"\n",
    "\n",
    "    return texto.format(total_promedio, tanque_principal, tanque_externo, tanque_hidrogeno)\n",
    "\n",
    "\n",
    "print(generar_reporte(20,340,43))"
   ]
  },
  {
   "cell_type": "markdown",
   "metadata": {},
   "source": [
    "# Ejercicio 2"
   ]
  },
  {
   "cell_type": "code",
   "execution_count": 28,
   "metadata": {},
   "outputs": [
    {
     "name": "stdout",
     "output_type": "stream",
     "text": [
      "\n",
      "Mision a Moon\n",
      "Tiempo total del viaje: 74\n",
      "Total de gasolina: 500000\n",
      "\n",
      "nombre tanque: main --- galones: 300000\n",
      "nombre tanque: external --- galones: 200000\n",
      "\n"
     ]
    }
   ],
   "source": [
    "def reporte_mision(destino, *minutos, **reservas_combustible):\n",
    "    \n",
    "    tiempo_total_viaje = sum(minutos)\n",
    "    gasolina_total = sum(reservas_combustible.values())\n",
    "    \n",
    "    text = \"\"\"\n",
    "Mision a {}\n",
    "Tiempo total del viaje: {}\n",
    "Total de gasolina: {}\n",
    "\n",
    "\"\"\"\n",
    "\n",
    "    text = text.format(destino, tiempo_total_viaje, gasolina_total)\n",
    "    \n",
    "    for nombre_tanque, galones in reservas_combustible.items():\n",
    "        text += \"nombre tanque: {} --- galones: {}\\n\".format(nombre_tanque, galones)\n",
    "    \n",
    "    return text\n",
    "\n",
    "print(reporte_mision(\"Moon\", 8, 11, 55, main=300000, external=200000))\n",
    "\n"
   ]
  }
 ],
 "metadata": {
  "interpreter": {
   "hash": "5a982917d8b7b1d6f48fd3aec0efb44101b286294bc6b25acdb2f17a8d554412"
  },
  "kernelspec": {
   "display_name": "Python 3.10.0 64-bit",
   "language": "python",
   "name": "python3"
  },
  "language_info": {
   "codemirror_mode": {
    "name": "ipython",
    "version": 3
   },
   "file_extension": ".py",
   "mimetype": "text/x-python",
   "name": "python",
   "nbconvert_exporter": "python",
   "pygments_lexer": "ipython3",
   "version": "3.10.0"
  },
  "orig_nbformat": 4
 },
 "nbformat": 4,
 "nbformat_minor": 2
}
